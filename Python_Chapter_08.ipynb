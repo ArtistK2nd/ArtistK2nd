{
  "nbformat": 4,
  "nbformat_minor": 0,
  "metadata": {
    "colab": {
      "provenance": [],
      "authorship_tag": "ABX9TyOEqMBYxyxDVfky3IHI2w7p",
      "include_colab_link": true
    },
    "kernelspec": {
      "name": "python3",
      "display_name": "Python 3"
    },
    "language_info": {
      "name": "python"
    }
  },
  "cells": [
    {
      "cell_type": "markdown",
      "metadata": {
        "id": "view-in-github",
        "colab_type": "text"
      },
      "source": [
        "<a href=\"https://colab.research.google.com/github/ArtistK2nd/ArtistK2nd/blob/main/Python_Chapter_08.ipynb\" target=\"_parent\"><img src=\"https://colab.research.google.com/assets/colab-badge.svg\" alt=\"Open In Colab\"/></a>"
      ]
    },
    {
      "cell_type": "markdown",
      "source": [
        "### 자료형 종류\n",
        "\n",
        "int(integer) : 정수형\n",
        "\n",
        "float(float) : 실수\n",
        "\n",
        "str(string) : 문자\n",
        "\n",
        "bool(bool, boolean) : 참 또는 거짓, true 또는 false, 1 또는 0\n",
        "\n",
        "list\n",
        "\n",
        "tuple\n",
        "\n",
        "dict\n",
        "\n",
        "set"
      ],
      "metadata": {
        "id": "6xBsA75QRjNg"
      }
    },
    {
      "cell_type": "code",
      "source": [
        "#tool의 쇼타임 시작됩니다\n",
        "# 주의할 점 True x true False x false\n",
        "# 부등호\n",
        "3 > 1\n",
        "3 == 1\n",
        "3 == 3\n",
        "\n",
        "20 != 5\n",
        "20 != 20\n",
        "\n",
        "False"
      ],
      "metadata": {
        "colab": {
          "base_uri": "https://localhost:8080/"
        },
        "id": "jJtnZSm3SNR_",
        "outputId": "eb801824-748c-4792-d1ff-6084cc109232"
      },
      "execution_count": 13,
      "outputs": [
        {
          "output_type": "execute_result",
          "data": {
            "text/plain": [
              "False"
            ]
          },
          "metadata": {},
          "execution_count": 13
        }
      ]
    },
    {
      "cell_type": "code",
      "source": [
        "#문자열 비교\n",
        "\"python\" == \"Python\"\n",
        "\"Python\" == \"Python\"\n",
        "\"python\" != \"Python\"\n",
        "\n",
        "True"
      ],
      "metadata": {
        "colab": {
          "base_uri": "https://localhost:8080/"
        },
        "id": "2DpmVmC_S9FV",
        "outputId": "2e65d5ea-247e-4580-8817-d381411b3562"
      },
      "execution_count": 12,
      "outputs": [
        {
          "output_type": "execute_result",
          "data": {
            "text/plain": [
              "True"
            ]
          },
          "metadata": {},
          "execution_count": 12
        }
      ]
    },
    {
      "cell_type": "code",
      "source": [
        "# 부등호\n",
        "5 >= 5\n",
        "5 < 4\n",
        "\n",
        "False"
      ],
      "metadata": {
        "colab": {
          "base_uri": "https://localhost:8080/"
        },
        "id": "zxPRdYGqTZzF",
        "outputId": "046ee9a9-927e-467d-9d3b-262b311a0c17"
      },
      "execution_count": 11,
      "outputs": [
        {
          "output_type": "execute_result",
          "data": {
            "text/plain": [
              "False"
            ]
          },
          "metadata": {},
          "execution_count": 11
        }
      ]
    },
    {
      "cell_type": "code",
      "source": [
        "# 중요\n",
        "# ==, is\n",
        "\n",
        "3 is 3\n",
        "3 == 3\n",
        "\n",
        "3.0 is 3\n",
        "3.0 == 3\n",
        "\n",
        "print(id(3.0))\n",
        "print(id(3))"
      ],
      "metadata": {
        "colab": {
          "base_uri": "https://localhost:8080/"
        },
        "id": "GjjEBpneTiQn",
        "outputId": "3fd763f0-2a6e-43d4-b814-551c5153bd99"
      },
      "execution_count": 10,
      "outputs": [
        {
          "output_type": "stream",
          "name": "stdout",
          "text": [
            "133760471780176\n",
            "11642152\n"
          ]
        },
        {
          "output_type": "stream",
          "name": "stderr",
          "text": [
            "<>:4: SyntaxWarning: \"is\" with 'int' literal. Did you mean \"==\"?\n",
            "<>:7: SyntaxWarning: \"is\" with 'float' literal. Did you mean \"==\"?\n",
            "<>:4: SyntaxWarning: \"is\" with 'int' literal. Did you mean \"==\"?\n",
            "<>:7: SyntaxWarning: \"is\" with 'float' literal. Did you mean \"==\"?\n",
            "/tmp/ipython-input-3240206669.py:4: SyntaxWarning: \"is\" with 'int' literal. Did you mean \"==\"?\n",
            "  3 is 3\n",
            "/tmp/ipython-input-3240206669.py:7: SyntaxWarning: \"is\" with 'float' literal. Did you mean \"==\"?\n",
            "  3.0 is 3\n"
          ]
        }
      ]
    },
    {
      "cell_type": "markdown",
      "source": [
        "미션 : 값 비교에는 is를 쓰면 안되는데 그 이유를 찾아서 기술 블로그에 작성해보세요"
      ],
      "metadata": {
        "id": "m8YkTeGCUKqM"
      }
    },
    {
      "cell_type": "code",
      "source": [
        "#본격적인 논리연산자\n",
        "# True : 1 / False : 0\n",
        "True and True # 1 * 1 = 1\n",
        "True and  False # 1 * 0 = 0\n",
        "False and True # 0 * 1 = 0\n",
        "False and False # 0 * 0 = 0\n",
        "\n",
        "\n",
        "False"
      ],
      "metadata": {
        "colab": {
          "base_uri": "https://localhost:8080/"
        },
        "id": "mKDQVg9BUaDD",
        "outputId": "62daa5bb-b2bc-46fc-e627-107f88c58114"
      },
      "execution_count": 9,
      "outputs": [
        {
          "output_type": "execute_result",
          "data": {
            "text/plain": [
              "False"
            ]
          },
          "metadata": {},
          "execution_count": 9
        }
      ]
    },
    {
      "cell_type": "code",
      "source": [
        "#본격적인 논리연산자\n",
        "# True : 1 / False : 0\n",
        "True or True # 1 + 1 = 1\n",
        "True or  False # 1 + 0 = 1\n",
        "False or True # 0 + 1 = 1\n",
        "False or False # 0 + 0 = 0\n",
        "\n",
        "\n",
        "False"
      ],
      "metadata": {
        "colab": {
          "base_uri": "https://localhost:8080/"
        },
        "id": "TcIeaq7WVV1S",
        "outputId": "554107d0-9000-4b3e-8c85-fb3671277560"
      },
      "execution_count": 8,
      "outputs": [
        {
          "output_type": "execute_result",
          "data": {
            "text/plain": [
              "False"
            ]
          },
          "metadata": {},
          "execution_count": 8
        }
      ]
    },
    {
      "cell_type": "code",
      "source": [
        "#not\n",
        "\n",
        "not True\n",
        "\n",
        "not False\n",
        "\n",
        "True"
      ],
      "metadata": {
        "colab": {
          "base_uri": "https://localhost:8080/"
        },
        "id": "4ItHQNYZWDRO",
        "outputId": "3f0fbcc6-ec09-42c1-f2d2-19dbb723d376"
      },
      "execution_count": 5,
      "outputs": [
        {
          "output_type": "execute_result",
          "data": {
            "text/plain": [
              "True"
            ]
          },
          "metadata": {},
          "execution_count": 5
        }
      ]
    },
    {
      "cell_type": "code",
      "source": [
        "# 점점 복잡해지는 조건들!!\n",
        "\n",
        "10 == 12 or 6 != 2\n",
        "2 > 5 and 7 ==7\n",
        "not 14 <= 15\n",
        "not 7 is 7.0"
      ],
      "metadata": {
        "colab": {
          "base_uri": "https://localhost:8080/"
        },
        "id": "BoZlh-4VWYQY",
        "outputId": "c3a9c213-5326-426a-a7b4-79b3da0a3841"
      },
      "execution_count": 7,
      "outputs": [
        {
          "output_type": "stream",
          "name": "stderr",
          "text": [
            "<>:6: SyntaxWarning: \"is not\" with 'int' literal. Did you mean \"!=\"?\n",
            "<>:6: SyntaxWarning: \"is not\" with 'int' literal. Did you mean \"!=\"?\n",
            "/tmp/ipython-input-3868168868.py:6: SyntaxWarning: \"is not\" with 'int' literal. Did you mean \"!=\"?\n",
            "  not 7 is 7.0\n"
          ]
        },
        {
          "output_type": "execute_result",
          "data": {
            "text/plain": [
              "True"
            ]
          },
          "metadata": {},
          "execution_count": 7
        }
      ]
    },
    {
      "cell_type": "code",
      "source": [
        "#문자열?? 너 뭐야 Ture 트루야?\n",
        "\n",
        "bool(\"힘들어요 여러분\")\n",
        "\n",
        "True"
      ],
      "metadata": {
        "id": "ibsXQJ3hW_QL"
      },
      "execution_count": null,
      "outputs": []
    },
    {
      "cell_type": "code",
      "source": [
        "# 굉장히 중요한 내용\n",
        "# 단락 평기\n",
        "print(False and True)\n",
        "print(False and \"힘들어요\")\n",
        "\n",
        "print(True and False)\n",
        "\n",
        "print(True and '힘들어요')"
      ],
      "metadata": {
        "colab": {
          "base_uri": "https://localhost:8080/"
        },
        "id": "rb2EcFjgXN2v",
        "outputId": "f5eb1afb-9cf8-41b1-a127-0e4462f9b1b5"
      },
      "execution_count": 17,
      "outputs": [
        {
          "output_type": "stream",
          "name": "stdout",
          "text": [
            "False\n",
            "False\n",
            "False\n",
            "힘들어요\n"
          ]
        }
      ]
    }
  ]
}