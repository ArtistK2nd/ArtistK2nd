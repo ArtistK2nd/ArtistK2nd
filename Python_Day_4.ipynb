{
  "nbformat": 4,
  "nbformat_minor": 0,
  "metadata": {
    "colab": {
      "provenance": [],
      "authorship_tag": "ABX9TyN2YY0lh2im98bGXK3QCC3l",
      "include_colab_link": true
    },
    "kernelspec": {
      "name": "python3",
      "display_name": "Python 3"
    },
    "language_info": {
      "name": "python"
    }
  },
  "cells": [
    {
      "cell_type": "markdown",
      "metadata": {
        "id": "view-in-github",
        "colab_type": "text"
      },
      "source": [
        "<a href=\"https://colab.research.google.com/github/ArtistK2nd/ArtistK2nd/blob/main/Python_Day_4.ipynb\" target=\"_parent\"><img src=\"https://colab.research.google.com/assets/colab-badge.svg\" alt=\"Open In Colab\"/></a>"
      ]
    },
    {
      "cell_type": "markdown",
      "source": [
        "# **1.if문이란?**\n",
        "\n",
        "\n",
        "\n",
        "*   특정 조건일때 코드를 실행하는 문법\n",
        "\n",
        "if 파이썬을 정복한다면 개발자로 취직할 수 있다.\n",
        "\n",
        "\n",
        "\n"
      ],
      "metadata": {
        "id": "M9HxfjCZAL7w"
      }
    },
    {
      "cell_type": "code",
      "source": [
        "#2. if문 문법과 주의사항(클론, 들여쓰기)\n",
        "개수 = int(input(\"붕어빵 몇개 사실건가요?\"))\n",
        "\n",
        "if 개수 > 3:\n",
        "    print(\"개당 1800원 입니다.\")"
      ],
      "metadata": {
        "colab": {
          "base_uri": "https://localhost:8080/"
        },
        "id": "99uJZwYeAu9w",
        "outputId": "f5e3fbee-cd57-45eb-ec72-32864a646d11"
      },
      "execution_count": 5,
      "outputs": [
        {
          "name": "stdout",
          "output_type": "stream",
          "text": [
            "붕어빵 몇개 사실건가요?3\n"
          ]
        }
      ]
    },
    {
      "cell_type": "code",
      "source": [
        "#3. if문의 흐름 (작동원리)\n",
        "#코드는 위에 아래 순서대로 작동합니다.\n",
        "\n",
        "개수 = int(input(\"붕어빵 몇개 사실건가요?\"))\n",
        "\n",
        "if 개수 > 3:\n",
        "    print(\"개당 1800원 입니다.\")\n",
        "\n",
        "if 개수 <= 3:\n",
        "  print(\"개당 2000원입니다.\")"
      ],
      "metadata": {
        "id": "xTJZqb0uBT5V"
      },
      "execution_count": null,
      "outputs": []
    },
    {
      "cell_type": "code",
      "source": [
        "#4. if 중첩문\n",
        "\n",
        "의문의_숫자 = 10\n",
        "\n",
        "if 의문의 숫자 < 5:\n",
        "    if 의문의_숫자 < 15:\n",
        "        print(\"의문의 숫자는 5보다 크고 10보다 작습니다.\")\n",
        "\n",
        "의문의 숫자는 5보다 크고 10보다 작습니다."
      ],
      "metadata": {
        "id": "vvFH3IxJCA28"
      },
      "execution_count": null,
      "outputs": []
    },
    {
      "cell_type": "code",
      "source": [
        "#5. if ~else 문법괴 주의사항(클론, 들여쓰기)\n",
        "# True일때는 if문 안에 작성된 코드가 실행됩니다.\n",
        "# False일때는 if문 안에 작성된 코드가 실행됩니다.\n",
        "\n",
        "개수 = int(input(\"붕어빵 몇개 사실건가요?\"))\n",
        "\n",
        "if 개수 > 3:\n",
        "    print(\"개당 1800원 입니다.\")\n",
        "else:\n",
        "    print(\"개당 2000원 입니다.\")"
      ],
      "metadata": {
        "id": "ekPe0BXvDpxM"
      },
      "execution_count": null,
      "outputs": []
    },
    {
      "cell_type": "code",
      "source": [
        "#6. if ~ else문 흐름 (작동원리)\n",
        "\n",
        "개수 = int(input(\"붕어빵 몇개 사실건가요?\"))\n",
        "\n",
        "if 개수 > 3:\n",
        "    print(\"개당 1800원 입니다.\")\n",
        "else:\n",
        "    print(\"개당 2000원 입니다.\")"
      ],
      "metadata": {
        "id": "5BDwQYdXEaqY"
      },
      "execution_count": null,
      "outputs": []
    },
    {
      "cell_type": "code",
      "source": [
        "#7. 조건문 조건(True, False)\n",
        "#True\n",
        "if True:\n",
        "    print(True)\n",
        "else:\n",
        "    print(False)\n",
        "\n",
        "\n",
        "#False\n",
        "if False:\n",
        "    print(True)\n",
        "else:\n",
        "    print(False)\n",
        "\n",
        "\n",
        "\n",
        "#False\n",
        "if False:\n",
        "    print(True)\n",
        "else:\n",
        "    print(False)\n",
        "\n",
        "\n",
        "#None\n",
        "if None:\n",
        "    print(True)\n",
        "else:\n",
        "    print(False)\n",
        "\n",
        "\n",
        "# 0\n",
        "if 0:\n",
        "    print(True)\n",
        "else:\n",
        "    print(False)\n",
        "\n",
        "# 1\n",
        "if 1:\n",
        "    print(True)\n",
        "else:\n",
        "    print(False)\n",
        "\n",
        "# 1.1\n",
        "if 1.1:\n",
        "    print(True)\n",
        "else:\n",
        "    print(False)\n",
        "\n",
        "\n",
        "# 'hello'\n",
        "if 'hello':\n",
        "    print(True)\n",
        "\n",
        "else:\n",
        "    print(False)\n",
        "\n",
        "# ''\n",
        "if '':\n",
        "    print(True)\n",
        "\n",
        "else:\n",
        "    print(False)\n",
        "\n",
        "# not\n",
        "if not True:\n",
        "    print(True)\n",
        "else:\n",
        "    print(False)\n",
        "\n",
        "if not '':\n",
        "    print(True)\n",
        "else:\n",
        "    print(False)"
      ],
      "metadata": {
        "colab": {
          "base_uri": "https://localhost:8080/"
        },
        "id": "zS691KxHEzIJ",
        "outputId": "4f15d387-73c0-4723-9ab9-8b30cf695a41"
      },
      "execution_count": 8,
      "outputs": [
        {
          "output_type": "stream",
          "name": "stdout",
          "text": [
            "True\n",
            "False\n",
            "False\n",
            "False\n",
            "False\n",
            "True\n",
            "True\n",
            "True\n",
            "False\n",
            "False\n",
            "True\n"
          ]
        }
      ]
    },
    {
      "cell_type": "code",
      "source": [
        "#8. 조건식 여러개 설정하기\n",
        "\n",
        "a, b = 10, 30\n",
        "\n",
        "if a==10 and b ==30:\n",
        "    print(\"동일합니다.\")\n",
        "else:\n",
        "    print(\"동일하지 않습니다.\")\n",
        "\n",
        "if a==10 or b ==30:\n",
        "    print(\"동일합니다.\")\n",
        "else:\n",
        "    print(\"동일하지 않습니다.\")\n",
        "\n",
        "if a>= 10 and a <20:\n",
        "    print(\"10보다 크고 20보다 작습니다.\")\n",
        "\n",
        "if 10 <= a < 20:\n",
        "    print(\"10보다 크고 20보다 작습니다.\")"
      ],
      "metadata": {
        "colab": {
          "base_uri": "https://localhost:8080/"
        },
        "id": "1REuO-pUFaxq",
        "outputId": "b262d835-c1f6-4474-c751-da43ec78ee37"
      },
      "execution_count": 10,
      "outputs": [
        {
          "output_type": "stream",
          "name": "stdout",
          "text": [
            "동일합니다.\n",
            "동일합니다.\n",
            "10보다 크고 20보다 작습니다.\n",
            "10보다 크고 20보다 작습니다.\n"
          ]
        }
      ]
    },
    {
      "cell_type": "code",
      "source": [
        "#9. elif ~ if문\n",
        "\n",
        "맛 = input(\"붕어빵 맛을 골라주세요(팥, 슈크림, 잡채?)\")\n",
        "\n",
        "if 맛 == \"팥\":\n",
        "    print(f'{맛}을 선택하셨습니다.')\n",
        "elif 맛 == \"슈크림\":\n",
        "    print(f'{맛}을 선택하셨습니다.')\n",
        "else:\n",
        "    print(f'{맛}을 선택하셨습니다.')"
      ],
      "metadata": {
        "id": "FwGr5HN-IBQQ"
      },
      "execution_count": null,
      "outputs": []
    },
    {
      "cell_type": "code",
      "source": [
        "#10. 예제로 if문 익혀보기\n",
        "#문제 : 단어 a의 가운데 글자를 반환하는 코드\n",
        "#조건 : 단어의 길이가 짝수라면 가운데 두글자를 출력하면 됩니다.\n",
        "\n",
        "#입력값1 : \"abcde\"  => c\n",
        "#입력값2 : \"qwer\"  => we\n",
        "\n",
        "a = input()\n",
        "\n",
        "가운데_인덱스 = int(ien(a) / 2)\n",
        "\n",
        "if len(a) % 2 != 0 :\n",
        "    print(a[가운데_인덱스])\n",
        "else:\n",
        "    print(a[가운데_인덱스-1 : 가운데_인덱스+1])"
      ],
      "metadata": {
        "id": "MPX84vEqLHu9"
      },
      "execution_count": null,
      "outputs": []
    }
  ]
}