{
  "nbformat": 4,
  "nbformat_minor": 0,
  "metadata": {
    "colab": {
      "provenance": [],
      "authorship_tag": "ABX9TyOlO+9XyR8M5r9zo4hmdjnm",
      "include_colab_link": true
    },
    "kernelspec": {
      "name": "python3",
      "display_name": "Python 3"
    },
    "language_info": {
      "name": "python"
    }
  },
  "cells": [
    {
      "cell_type": "markdown",
      "metadata": {
        "id": "view-in-github",
        "colab_type": "text"
      },
      "source": [
        "<a href=\"https://colab.research.google.com/github/ArtistK2nd/ArtistK2nd/blob/main/Python_Day_3.ipynb\" target=\"_parent\"><img src=\"https://colab.research.google.com/assets/colab-badge.svg\" alt=\"Open In Colab\"/></a>"
      ]
    },
    {
      "cell_type": "markdown",
      "source": [
        "[ 문제 1 ]\n",
        "\n",
        "소민 조교님이 소고기를 드시고 싶다고 하십니다!\n",
        "\n",
        "수강생 4명이 돈을 모아 소고기를 사드리려고 하는데\n",
        "\n",
        "돈은 각각 12000원, 10000원, 8000원, 13000원 이렇게 있다고 합니다!\n",
        "\n",
        "수강생들의 돈의 합을 출력해봅시다!"
      ],
      "metadata": {
        "id": "Ye5449YC7e0i"
      }
    },
    {
      "cell_type": "code",
      "source": [
        "student1 = int(input(12000))\n",
        "student2 = int(input(10000))\n",
        "student3 = int(input(8000))\n",
        "student4 = int(input(13000))\n",
        "\n",
        "total = ( student1 + student2 + student3 + student4 )\n",
        "print(total)"
      ],
      "metadata": {
        "id": "-04Wk-i56qA1"
      },
      "execution_count": null,
      "outputs": []
    },
    {
      "cell_type": "markdown",
      "source": [
        "12000\n",
        "\n",
        "10000\n",
        "\n",
        "8000\n",
        "\n",
        "13000\n",
        "\n",
        "43000won"
      ],
      "metadata": {
        "id": "CUckCw-j7piG"
      }
    },
    {
      "cell_type": "markdown",
      "source": [
        "[ 문제 2 ]\n",
        "\n",
        "GOGI 리스트에는\n",
        "\n",
        "다음과 같이 4개의 고기 종류가 바인딩되어 있습니다!\n",
        "\n",
        "\"BEEF\"을 \"PORK\"과 \"CHICKEN\" 사이에 추가해봐요!\n",
        "\n",
        "GOGI = [ 'PORK', 'CHICKEN', 'DUCKBEEF', 'RABBITBEEF' ]"
      ],
      "metadata": {
        "id": "I01WTkUM8JVD"
      }
    },
    {
      "cell_type": "code",
      "source": [
        "GOGI = [ \"PORK\", \"CHICKEN\", \"DUCKBEEF\", \"RABBITBEEF\" ]"
      ],
      "metadata": {
        "id": "sMYH3766-A8w"
      },
      "execution_count": 7,
      "outputs": []
    },
    {
      "cell_type": "code",
      "source": [
        "GOGI.insert( 2, \"BEEF\" )\n",
        "print(GOGI)"
      ],
      "metadata": {
        "id": "itBw4bGK9l8L"
      },
      "execution_count": null,
      "outputs": []
    },
    {
      "cell_type": "markdown",
      "source": [
        "[ 문제 2 - 1 ]\n",
        "\n",
        "GOGI 리스트에서 'RABBITBEEF' 를 삭제해봐요!\n",
        "\n",
        "GOGI = [ 'PORK', 'beef', 'CHICKEN', 'DUCKBEEF', 'RABBITBEEF']"
      ],
      "metadata": {
        "id": "P9giTW0i-qRg"
      }
    },
    {
      "cell_type": "code",
      "source": [
        "GOGI.remove( 'RABBITBEEF' )\n",
        "print(GOGI)"
      ],
      "metadata": {
        "id": "UlGvsaCp_FOV"
      },
      "execution_count": null,
      "outputs": []
    },
    {
      "cell_type": "markdown",
      "source": [
        "[ 문제 3 ]\n",
        "\n",
        "[ 고기 굽기 ]와 [ 고기 찌기 ] 리스트가 있을 때\n",
        "\n",
        "고기굽기와 고기찌기의 원소를 모두 가지고 있는\n",
        "\n",
        "[ 조리 방식 ] 이라는 list를 만들어 봐요!"
      ],
      "metadata": {
        "id": "oMCjxBp9BfH0"
      }
    },
    {
      "cell_type": "code",
      "source": [
        "RECIPE1 = [ \"Roast\" ]"
      ],
      "metadata": {
        "id": "RT2ld3-JB9vX"
      },
      "execution_count": null,
      "outputs": []
    },
    {
      "cell_type": "code",
      "source": [
        "RECIPE2 = [ \"Steam\" ]"
      ],
      "metadata": {
        "id": "__vMbAZnCUwa"
      },
      "execution_count": null,
      "outputs": []
    },
    {
      "cell_type": "code",
      "source": [
        "굽기1 = [\"Roast\"]\n",
        "찌기2 = [\"Steam\"]\n",
        "\n",
        "RECIPE = 굽기1 + 찌기2\n",
        "\n",
        "print(RECIPE)"
      ],
      "metadata": {
        "id": "Az51UELqCf5Z"
      },
      "execution_count": null,
      "outputs": []
    },
    {
      "cell_type": "markdown",
      "source": [
        "[ 문제 4 ]\n",
        "\n",
        "다음 리스트에 저장된 데이터의 갯수를 화면에 출력해봐요!\n",
        "\n",
        "Food = [\"스테이크\", \"샐러드\", \"크림스프\", \"자몽에이드\", \"볼로네제파스타\", \"숯불립아이\"]"
      ],
      "metadata": {
        "id": "Dd9JYeIGC_NE"
      }
    },
    {
      "cell_type": "code",
      "source": [
        "Food =  [\"스테이크\", \"샐러드\", \"크림스프\", \"자몽에이드\", \"볼로네제파스타\", \"숯불립아이\"]"
      ],
      "metadata": {
        "id": "INzR232vDnu-"
      },
      "execution_count": null,
      "outputs": []
    },
    {
      "cell_type": "code",
      "source": [
        "print(len(Food))"
      ],
      "metadata": {
        "id": "lHxBmIwKDrwI"
      },
      "execution_count": null,
      "outputs": []
    },
    {
      "cell_type": "markdown",
      "source": [
        "[ 문제 5 ]\n",
        "\n",
        "다음 딕셔너리를 이용해서 자몽에이드 가격을 출력해봐요!\n",
        "\n",
        "Food = {'자몽에이드': 5000,\n",
        "        '샐러드': 7000,\n",
        "        '크림스프':8000,\n",
        "        '스테이크':13000,\n",
        "        '볼로네제파스타':11000,\n",
        "        '숯불립아이':12000}"
      ],
      "metadata": {
        "id": "b94trDdXD6GX"
      }
    },
    {
      "cell_type": "code",
      "source": [
        "Food = {\n",
        "    '스테이크' : 13000,\n",
        "    '샐러드' : 7000,\n",
        "    '크림스프' : 8000,\n",
        "    '볼로네제파스타' : 11000,\n",
        "    '숯불립아이' : 12000,\n",
        "    '자몽에이드' : 5000\n",
        "    }"
      ],
      "metadata": {
        "id": "JSNDc0jGE37b"
      },
      "execution_count": null,
      "outputs": []
    },
    {
      "cell_type": "code",
      "source": [
        "print(\"자몽에이드의 가격\", Food['자몽에이드'])"
      ],
      "metadata": {
        "id": "uoyhJGwlFRq8"
      },
      "execution_count": null,
      "outputs": []
    }
  ]
}