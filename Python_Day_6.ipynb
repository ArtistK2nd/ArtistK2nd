{
  "nbformat": 4,
  "nbformat_minor": 0,
  "metadata": {
    "colab": {
      "provenance": [],
      "authorship_tag": "ABX9TyMP+mE33EkW2S4yMa+Rsrbl",
      "include_colab_link": true
    },
    "kernelspec": {
      "name": "python3",
      "display_name": "Python 3"
    },
    "language_info": {
      "name": "python"
    }
  },
  "cells": [
    {
      "cell_type": "markdown",
      "metadata": {
        "id": "view-in-github",
        "colab_type": "text"
      },
      "source": [
        "<a href=\"https://colab.research.google.com/github/ArtistK2nd/ArtistK2nd/blob/main/Python_Day_6.ipynb\" target=\"_parent\"><img src=\"https://colab.research.google.com/assets/colab-badge.svg\" alt=\"Open In Colab\"/></a>"
      ]
    },
    {
      "cell_type": "markdown",
      "source": [
        "def 함수이름():\n",
        "    코드"
      ],
      "metadata": {
        "id": "HcpKRKoNqyNQ"
      }
    },
    {
      "cell_type": "code",
      "source": [
        "def oz():\n",
        "    for i in range(5):\n",
        "        print('오즈코딩스쿨')\n",
        "\n",
        "oz()"
      ],
      "metadata": {
        "colab": {
          "base_uri": "https://localhost:8080/"
        },
        "id": "Rf6E_m11q6iJ",
        "outputId": "013f0916-6f5b-4ce3-ec25-d46b6026262a"
      },
      "execution_count": 1,
      "outputs": [
        {
          "output_type": "stream",
          "name": "stdout",
          "text": [
            "오즈코딩스쿨\n",
            "오즈코딩스쿨\n",
            "오즈코딩스쿨\n",
            "오즈코딩스쿨\n",
            "오즈코딩스쿨\n"
          ]
        }
      ]
    },
    {
      "cell_type": "markdown",
      "source": [
        "함수 코드 해석:\n",
        "\n",
        "    1. 함수 선언부 : oz라는 함수를 정의할께 드리고 이 함수가 실행되면 for문을 이용해 OZ코딩스쿨이라는 내용이 5번 출력되도록 해줘\n",
        "    2. 함수 실행부 : oz함수를 실행 호출(실행)해줘"
      ],
      "metadata": {
        "id": "t-564_XZroNF"
      }
    },
    {
      "cell_type": "code",
      "source": [
        "print('어떤가요 이것도 함수였어요')"
      ],
      "metadata": {
        "colab": {
          "base_uri": "https://localhost:8080/"
        },
        "id": "EBVb9ctwsLuQ",
        "outputId": "8256aca0-d67b-4aed-bac6-85c1122c43a7"
      },
      "execution_count": 2,
      "outputs": [
        {
          "output_type": "stream",
          "name": "stdout",
          "text": [
            "어떤가요 이것도 함수였어요\n"
          ]
        }
      ]
    },
    {
      "cell_type": "code",
      "source": [
        "#print()만 입력해서 확인해봐요!\n",
        "print()"
      ],
      "metadata": {
        "colab": {
          "base_uri": "https://localhost:8080/"
        },
        "id": "MKJU8fSWsYOY",
        "outputId": "18d022ce-f6cd-4a77-b23e-3a6c6f1c9386"
      },
      "execution_count": 3,
      "outputs": [
        {
          "output_type": "stream",
          "name": "stdout",
          "text": [
            "\n"
          ]
        }
      ]
    },
    {
      "cell_type": "markdown",
      "source": [
        "함수의 구조\n",
        "  def 함수이름(매개변수, 매개변수):\n",
        "      코드\n",
        "\n",
        "함수의 괄호안에 들어오는 값을 매개변수(parameter)라고 합니다.\n",
        "\n",
        "이렇게 입력되는 매개변수들을 구분을 위해서 식별자를 만들어줍니다."
      ],
      "metadata": {
        "id": "B4h91-NysmR8"
      }
    },
    {
      "cell_type": "code",
      "source": [
        "def oz(message, n):\n",
        "    for i in range(n):\n",
        "        print(message)\n",
        "\n",
        "oz('oz코딩스쿨', 5)"
      ],
      "metadata": {
        "colab": {
          "base_uri": "https://localhost:8080/"
        },
        "id": "3L7E9SxhtCZb",
        "outputId": "4ea06386-6915-43d7-b7b9-6d745a40d4dd"
      },
      "execution_count": 4,
      "outputs": [
        {
          "output_type": "stream",
          "name": "stdout",
          "text": [
            "oz코딩스쿨\n",
            "oz코딩스쿨\n",
            "oz코딩스쿨\n",
            "oz코딩스쿨\n",
            "oz코딩스쿨\n"
          ]
        }
      ]
    },
    {
      "cell_type": "markdown",
      "source": [
        "위 코드는 앞서 만든 oz()함수에 2개의 매개변수를 받을 수 있도록 수정했습니다.\n",
        "\n",
        "2개의 매개변수는 각각 message와 n이라는 식별자를 만들어주었습니다.\n",
        "\n",
        "이로써 oz()함수 호출시 입력하는 2개의 값 중 첫번째는 출력에 사용되는 값이고\n",
        "\n",
        "두번째는 for문 반복에 사용된다는걸 알 수 있습니다.\n",
        "\n",
        "구조의 큰 변화는 없지만 이전 oz()함수와는 작동하는 방식에 차이를 보입니다."
      ],
      "metadata": {
        "id": "GdmoDcQLwg3k"
      }
    },
    {
      "cell_type": "code",
      "source": [
        "def oz(message, n):\n",
        "    for i in range(n):\n",
        "        print(message)\n",
        "\n",
        "oz('oz코딩스쿨', 5)\n",
        "\n",
        "# def oz('oz코딩스쿨', 5):\n",
        "#     for i in range(5):\n",
        "#         print('oz코딩스쿨')\n",
        "\n",
        "# oz('oz코딩스쿯', 5)"
      ],
      "metadata": {
        "colab": {
          "base_uri": "https://localhost:8080/"
        },
        "id": "JRrshz06yEH7",
        "outputId": "2270266a-c4e6-4be5-8f57-4fb6c191a3de"
      },
      "execution_count": 5,
      "outputs": [
        {
          "output_type": "stream",
          "name": "stdout",
          "text": [
            "oz코딩스쿨\n",
            "oz코딩스쿨\n",
            "oz코딩스쿨\n",
            "oz코딩스쿨\n",
            "oz코딩스쿨\n"
          ]
        }
      ]
    },
    {
      "cell_type": "markdown",
      "source": [
        "여기서 주의해야될 점은 함수를 선언할때 입력을 받을 수 있는 매개변수의 개수입니다.\n",
        "\n",
        "oz()함수의 경우 2개의 매개변수를 받을 수 있도록 정의했습니다.\n",
        "그런데 1개 또는 3개를 입력하면 실행시 오류가 발생합니다.\n",
        "\n",
        "아래 5가지 키워드를 자신만의 방식으로 정리해봐요!\n",
        "\n",
        "\n",
        "\n",
        "*   함수의 기본 구조에 대해 설명해봐요!\n",
        "*   함수 호출은 무엇을 의미하고 어떻게 할 수 있을까요?\n",
        "*   매개변수란 무엇일까요?\n",
        "*   식별자는 무엇이고 사용하는 이유는 뭘까요?\n",
        "*   식별자는 함수 안에서 어떻게 사용될까요?\n",
        "\n",
        "\n",
        "\n",
        "\n",
        "\n"
      ],
      "metadata": {
        "id": "FY6WTouCzHba"
      }
    }
  ]
}