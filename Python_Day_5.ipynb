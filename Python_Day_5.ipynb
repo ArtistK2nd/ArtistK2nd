{
  "nbformat": 4,
  "nbformat_minor": 0,
  "metadata": {
    "colab": {
      "provenance": [],
      "authorship_tag": "ABX9TyOSn8EAW93FhSBtri18I4BM",
      "include_colab_link": true
    },
    "kernelspec": {
      "name": "python3",
      "display_name": "Python 3"
    },
    "language_info": {
      "name": "python"
    }
  },
  "cells": [
    {
      "cell_type": "markdown",
      "metadata": {
        "id": "view-in-github",
        "colab_type": "text"
      },
      "source": [
        "<a href=\"https://colab.research.google.com/github/ArtistK2nd/ArtistK2nd/blob/main/Python_Day_5.ipynb\" target=\"_parent\"><img src=\"https://colab.research.google.com/assets/colab-badge.svg\" alt=\"Open In Colab\"/></a>"
      ]
    },
    {
      "cell_type": "code",
      "execution_count": null,
      "metadata": {
        "id": "NDTQkrZCcW5t"
      },
      "outputs": [],
      "source": [
        "def 양파():\n",
        "    print(\"양파를 2개를 수확했습니다.\")\n",
        "def 대파():\n",
        "    print(\"대파를 수확했습니다.\")\n",
        "\n",
        "#함수 호출하기\n",
        "양파()\n",
        "대파()\n",
        "\n",
        "양파를 2개를 수확했습니다.\n",
        "대파를 수확했습니다."
      ]
    },
    {
      "cell_type": "code",
      "source": [
        "def 수확():\n",
        "    print('올해 비가 많이 왔습니다.')\n",
        "\n",
        "print('농작물 수확량이 현저히 줄었습니다.')\n",
        "\n",
        "수확()\n",
        "\n",
        "농작물 수확량이 현저히 줄었습니다.\n",
        "올해 비가 많이 왔습니다."
      ],
      "metadata": {
        "id": "h7pMjwXCc9Tg"
      },
      "execution_count": null,
      "outputs": []
    },
    {
      "cell_type": "code",
      "source": [
        "def function(x, y):\n",
        "    z = x + y\n",
        "    return z\n",
        "\n",
        "# A등급 10마리, B등급 9마리\n",
        "print('옥수수와 수박의 수확량 :', function(10, 2))"
      ],
      "metadata": {
        "colab": {
          "base_uri": "https://localhost:8080/"
        },
        "id": "xEgNJCUvdg42",
        "outputId": "18f5621c-cd79-4a6a-816b-a1c90402d2fc"
      },
      "execution_count": 1,
      "outputs": [
        {
          "output_type": "stream",
          "name": "stdout",
          "text": [
            "옥수수와 수박의 수확량 : 12\n"
          ]
        }
      ]
    },
    {
      "cell_type": "code",
      "source": [
        "def 수확():\n",
        "    print(\"고라니 2마리를 잡았습니다.\")\n",
        "수확()\n",
        "\n",
        "고라니 2마리를 잡았습니다."
      ],
      "metadata": {
        "id": "FjRI7kiGeBzY"
      },
      "execution_count": null,
      "outputs": []
    },
    {
      "cell_type": "code",
      "source": [
        "def  function(x, y):\n",
        "    z = x + y\n",
        "    print(z)\n",
        "\n",
        "# A등급 10마리, B등급 9마리\n",
        "print('옥수수와 수박의 수확량 :', function(10, 2))"
      ],
      "metadata": {
        "colab": {
          "base_uri": "https://localhost:8080/"
        },
        "id": "4Ik_G71uez-6",
        "outputId": "872cdd89-7e71-48f9-81a2-1d872fce3b9e"
      },
      "execution_count": 2,
      "outputs": [
        {
          "output_type": "stream",
          "name": "stdout",
          "text": [
            "12\n",
            "옥수수와 수박의 수확량 : None\n"
          ]
        }
      ]
    },
    {
      "cell_type": "code",
      "source": [
        "def 계산(가격, 개수):\n",
        "    return 가격 * 개수\n",
        "print(계산(1000, 5),'원입니다.')"
      ],
      "metadata": {
        "colab": {
          "base_uri": "https://localhost:8080/"
        },
        "id": "kVGV-Wr_feq8",
        "outputId": "f5301338-2ecd-421c-817a-1cd7449288ad"
      },
      "execution_count": 3,
      "outputs": [
        {
          "output_type": "stream",
          "name": "stdout",
          "text": [
            "5000 원입니다.\n"
          ]
        }
      ]
    },
    {
      "cell_type": "code",
      "source": [
        "def 계산(a, b, c):\n",
        "    합계 = a*1000 + b*500 + c*100\n",
        "    return 합계\n",
        "\n",
        "print(게산(5, 2, 3), '원입니다.')\n",
        "\n",
        "6300 원입니다."
      ],
      "metadata": {
        "id": "PszU-KyagOBu"
      },
      "execution_count": null,
      "outputs": []
    },
    {
      "cell_type": "code",
      "source": [
        "a = 100\n",
        "def f():\n",
        "    global a\n",
        "    a = a + 1\n",
        "    return a\n",
        "f()"
      ],
      "metadata": {
        "colab": {
          "base_uri": "https://localhost:8080/"
        },
        "id": "GxivXDFLjKqp",
        "outputId": "956956aa-8aad-47a0-9c20-d17d2fba3671"
      },
      "execution_count": 7,
      "outputs": [
        {
          "output_type": "execute_result",
          "data": {
            "text/plain": [
              "101"
            ]
          },
          "metadata": {},
          "execution_count": 7
        }
      ]
    },
    {
      "cell_type": "code",
      "source": [
        "won = {'A등급':1000, 'B등급':500, 'C등급':100}\n",
        "\n",
        "def 계산(a, b, c):\n",
        "    합계 = won['A등급']* a + won['B등급']*b + won['C등급']*c\n",
        "    return 합계\n",
        "\n",
        "print(계산(5, 2, 3), '원입니다.')"
      ],
      "metadata": {
        "colab": {
          "base_uri": "https://localhost:8080/"
        },
        "id": "9EZpBfvLjliu",
        "outputId": "d92c137d-0bc4-4312-f7ba-461a602daf27"
      },
      "execution_count": 8,
      "outputs": [
        {
          "output_type": "stream",
          "name": "stdout",
          "text": [
            "6300 원입니다.\n"
          ]
        }
      ]
    },
    {
      "cell_type": "code",
      "source": [
        "#상수\n",
        "PI = 3.14\n",
        "def circle(r,inputpi):\n",
        "    z = r*r*inputpi\n",
        "    return z\n",
        "\n",
        "result - circle(10, PI)\n",
        "print(result)"
      ],
      "metadata": {
        "id": "tlY5077Zkl_Z"
      },
      "execution_count": null,
      "outputs": []
    },
    {
      "cell_type": "code",
      "source": [
        "A - 0\n",
        "B - 0\n",
        "C - 0\n",
        "유물 = 0\n",
        "\n",
        "def 감자():\n",
        "    global A 0\n",
        "    A += 1 1\n",
        "\n",
        "def 양파():\n",
        "    global A, B, C 1, 0, 0\n",
        "    A += 4\n",
        "    B += 3\n",
        "    C += 4\n",
        "\n",
        "def 옥수수():\n",
        "    global 유물 0\n",
        "    유물 += 1\n",
        "\n",
        "감자()\n",
        "양파()\n",
        "옥수수()\n",
        "\n",
        "합계 = A + B + C + 유물\n",
        "print('오늘 수확한 수확물 :', 합계)"
      ],
      "metadata": {
        "id": "AmeQ65vklm6t"
      },
      "execution_count": null,
      "outputs": []
    },
    {
      "cell_type": "markdown",
      "source": [
        "**def 함수이름1(): 코드def 함수이름2():코드**"
      ],
      "metadata": {
        "id": "P7LiwBZEnBqw"
      }
    },
    {
      "cell_type": "code",
      "source": [
        "def print_text():\n",
        "    text = \"콩콩팥팥 수확의 기쁨\"\n",
        "    def txt():\n",
        "        print(text)\n",
        "    txt()\n",
        "print_text()"
      ],
      "metadata": {
        "colab": {
          "base_uri": "https://localhost:8080/"
        },
        "id": "UGb5mprgnSjU",
        "outputId": "e67bf409-cf44-421a-e7c2-13afce2dd230"
      },
      "execution_count": 17,
      "outputs": [
        {
          "output_type": "stream",
          "name": "stdout",
          "text": [
            "콩콩팥팥 수확의 기쁨\n"
          ]
        }
      ]
    },
    {
      "cell_type": "code",
      "source": [
        "def 수확철():\n",
        "    야채 = {'A등급':0, 'B등급':0, 'C등급':0}\n",
        "\n",
        "    def 양파():\n",
        "         야채['A등급'] += 1\n",
        "\n",
        "    def 대파():\n",
        "         야채['A등급'] += 3\n",
        "         야채['B등급'] += 3\n",
        "         야채['C등급'] += 4\n",
        "\n",
        "    def 쪽파():\n",
        "         야채['금'] = 1\n",
        "\n",
        "    양파()\n",
        "    대파()\n",
        "    쪽파()\n",
        "\n",
        "ruturn  야채\n",
        "\n",
        "수확철()\n",
        "# sum(수확철().values())"
      ],
      "metadata": {
        "id": "8SfT8MVSnuiv"
      },
      "execution_count": null,
      "outputs": []
    }
  ]
}